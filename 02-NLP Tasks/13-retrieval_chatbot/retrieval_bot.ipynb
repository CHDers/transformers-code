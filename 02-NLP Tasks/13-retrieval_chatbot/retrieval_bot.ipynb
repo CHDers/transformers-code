{
 "cells": [
  {
   "cell_type": "markdown",
   "metadata": {},
   "source": [
    "# 检索机器人"
   ]
  },
  {
   "cell_type": "markdown",
   "metadata": {},
   "source": [
    "## Step1 读取faq数据"
   ]
  },
  {
   "cell_type": "code",
   "execution_count": 1,
   "metadata": {},
   "outputs": [
    {
     "data": {
      "text/html": [
       "<div>\n",
       "<style scoped>\n",
       "    .dataframe tbody tr th:only-of-type {\n",
       "        vertical-align: middle;\n",
       "    }\n",
       "\n",
       "    .dataframe tbody tr th {\n",
       "        vertical-align: top;\n",
       "    }\n",
       "\n",
       "    .dataframe thead th {\n",
       "        text-align: right;\n",
       "    }\n",
       "</style>\n",
       "<table border=\"1\" class=\"dataframe\">\n",
       "  <thead>\n",
       "    <tr style=\"text-align: right;\">\n",
       "      <th></th>\n",
       "      <th>title</th>\n",
       "      <th>reply</th>\n",
       "    </tr>\n",
       "  </thead>\n",
       "  <tbody>\n",
       "    <tr>\n",
       "      <th>0</th>\n",
       "      <td>在法律中定金与订金的区别订金和定金哪个受</td>\n",
       "      <td>“定金”是指当事人约定由一方向对方给付的，作为债权担保的一定数额的货币，它属于一种法律上的担...</td>\n",
       "    </tr>\n",
       "    <tr>\n",
       "      <th>1</th>\n",
       "      <td>盗窃罪的犯罪客体是什么，盗窃罪的犯罪主体</td>\n",
       "      <td>盗窃罪的客体要件本罪侵犯的客体是公私财物的所有权。侵犯的对象，是国家、集体或个人的财物，一般...</td>\n",
       "    </tr>\n",
       "    <tr>\n",
       "      <th>2</th>\n",
       "      <td>非法微整形机构构成非法经营罪吗</td>\n",
       "      <td>符合要件就有可能。非法经营罪，是指未经许可经营专营、专卖物品或其他限制买卖的物品，买卖进出口...</td>\n",
       "    </tr>\n",
       "    <tr>\n",
       "      <th>3</th>\n",
       "      <td>入室持刀行凶伤人能不能判刑</td>\n",
       "      <td>对于入室持刀伤人涉嫌故意伤害刑事犯罪，一经定罪，故意伤害他人身体的，处三年以下有期徒刑、拘役...</td>\n",
       "    </tr>\n",
       "    <tr>\n",
       "      <th>4</th>\n",
       "      <td>对交通事故责任认定书不服怎么办，交通事故损</td>\n",
       "      <td>事故认定书下发后，如果你对认定不满意，可在接到认定书3日内到上一级公安机关复议。</td>\n",
       "    </tr>\n",
       "  </tbody>\n",
       "</table>\n",
       "</div>"
      ],
      "text/plain": [
       "                   title                                              reply\n",
       "0   在法律中定金与订金的区别订金和定金哪个受  “定金”是指当事人约定由一方向对方给付的，作为债权担保的一定数额的货币，它属于一种法律上的担...\n",
       "1   盗窃罪的犯罪客体是什么，盗窃罪的犯罪主体  盗窃罪的客体要件本罪侵犯的客体是公私财物的所有权。侵犯的对象，是国家、集体或个人的财物，一般...\n",
       "2        非法微整形机构构成非法经营罪吗  符合要件就有可能。非法经营罪，是指未经许可经营专营、专卖物品或其他限制买卖的物品，买卖进出口...\n",
       "3          入室持刀行凶伤人能不能判刑  对于入室持刀伤人涉嫌故意伤害刑事犯罪，一经定罪，故意伤害他人身体的，处三年以下有期徒刑、拘役...\n",
       "4  对交通事故责任认定书不服怎么办，交通事故损           事故认定书下发后，如果你对认定不满意，可在接到认定书3日内到上一级公安机关复议。"
      ]
     },
     "execution_count": 1,
     "metadata": {},
     "output_type": "execute_result"
    }
   ],
   "source": [
    "import pandas as pd\n",
    "\n",
    "data = pd.read_csv(\"./law_faq.csv\")\n",
    "data.head()"
   ]
  },
  {
   "cell_type": "markdown",
   "metadata": {},
   "source": [
    "## Step2 加载模型"
   ]
  },
  {
   "cell_type": "code",
   "execution_count": 2,
   "metadata": {},
   "outputs": [
    {
     "name": "stdout",
     "output_type": "stream",
     "text": [
      "匹配模型加载成功！\n"
     ]
    }
   ],
   "source": [
    "from dual_model import DualModel\n",
    "\n",
    "dual_model = DualModel.from_pretrained(\"../12-sentence_similarity/dual_model/checkpoint-500/\")\n",
    "dual_model = dual_model.cuda()\n",
    "dual_model.eval()\n",
    "print(\"匹配模型加载成功！\")"
   ]
  },
  {
   "cell_type": "code",
   "execution_count": 3,
   "metadata": {},
   "outputs": [
    {
     "data": {
      "text/plain": [
       "BertTokenizerFast(name_or_path='hfl/chinese-macbert-base', vocab_size=21128, model_max_length=1000000000000000019884624838656, is_fast=True, padding_side='right', truncation_side='right', special_tokens={'unk_token': '[UNK]', 'sep_token': '[SEP]', 'pad_token': '[PAD]', 'cls_token': '[CLS]', 'mask_token': '[MASK]'}, clean_up_tokenization_spaces=True)"
      ]
     },
     "execution_count": 3,
     "metadata": {},
     "output_type": "execute_result"
    }
   ],
   "source": [
    "from transformers import AutoTokenizer\n",
    "tokenzier = AutoTokenizer.from_pretrained(\"hfl/chinese-macbert-base\")\n",
    "tokenzier"
   ]
  },
  {
   "cell_type": "markdown",
   "metadata": {},
   "source": [
    "## Step3 将问题编码为向量"
   ]
  },
  {
   "cell_type": "code",
   "execution_count": 9,
   "metadata": {},
   "outputs": [
    {
     "name": "stderr",
     "output_type": "stream",
     "text": [
      "100%|██████████| 570/570 [00:05<00:00, 100.89it/s]\n"
     ]
    },
    {
     "data": {
      "text/plain": [
       "(18213, 768)"
      ]
     },
     "execution_count": 9,
     "metadata": {},
     "output_type": "execute_result"
    }
   ],
   "source": [
    "import torch\n",
    "from tqdm import tqdm\n",
    "questions = data[\"title\"].to_list()\n",
    "vectors = []\n",
    "with torch.inference_mode():\n",
    "    for i in tqdm(range(0, len(questions), 32)):\n",
    "        batch_sens = questions[i: i + 32]\n",
    "        inputs = tokenzier(batch_sens, return_tensors=\"pt\", padding=True, max_length=128, truncation=True)\n",
    "        inputs = {k: v.to(dual_model.device) for k, v in inputs.items()}\n",
    "        vector = dual_model.bert(**inputs)[1]\n",
    "        vectors.append(vector)\n",
    "vectors = torch.concat(vectors, dim=0).cpu().numpy()\n",
    "vectors.shape"
   ]
  },
  {
   "cell_type": "markdown",
   "metadata": {},
   "source": [
    "## Step4 创建索引"
   ]
  },
  {
   "cell_type": "code",
   "execution_count": 10,
   "metadata": {},
   "outputs": [
    {
     "data": {
      "text/plain": [
       "<faiss.swigfaiss.IndexFlatIP; proxy of <Swig Object of type 'faiss::IndexFlatIP *' at 0x00000210D32506F0> >"
      ]
     },
     "execution_count": 10,
     "metadata": {},
     "output_type": "execute_result"
    }
   ],
   "source": [
    "import faiss\n",
    "\n",
    "index = faiss.IndexFlatIP(768)\n",
    "faiss.normalize_L2(vectors)\n",
    "index.add(vectors)\n",
    "index"
   ]
  },
  {
   "cell_type": "markdown",
   "metadata": {},
   "source": [
    "## Step5 对问题进行向量编码"
   ]
  },
  {
   "cell_type": "code",
   "execution_count": 25,
   "metadata": {},
   "outputs": [
    {
     "data": {
      "text/plain": [
       "(1, 768)"
      ]
     },
     "execution_count": 25,
     "metadata": {},
     "output_type": "execute_result"
    }
   ],
   "source": [
    "quesiton = \"寻衅滋事\"\n",
    "with torch.inference_mode():\n",
    "    inputs = tokenzier(quesiton, return_tensors=\"pt\", padding=True, max_length=128, truncation=True)\n",
    "    inputs = {k: v.to(dual_model.device) for k, v in inputs.items()}\n",
    "    vector = dual_model.bert(**inputs)[1]\n",
    "    q_vector = vector.cpu().numpy()\n",
    "q_vector.shape"
   ]
  },
  {
   "cell_type": "markdown",
   "metadata": {},
   "source": [
    "## Step6 向量匹配(召回)"
   ]
  },
  {
   "cell_type": "code",
   "execution_count": 20,
   "metadata": {},
   "outputs": [
    {
     "data": {
      "text/plain": [
       "array(['敲诈勒索罪', '涉嫌寻衅滋事', '飞达暴力催收', '东进球员向足*求助讨薪', '元*县*管拉幅讨薪',\n",
       "       '黑*江*集*长*煤*拖欠工资', '打架斗殴', '王*荣欠债还钱', '说滴滴是和法的，运管为什么还要抓呢', '毒品的危害'],\n",
       "      dtype=object)"
      ]
     },
     "execution_count": 20,
     "metadata": {},
     "output_type": "execute_result"
    }
   ],
   "source": [
    "faiss.normalize_L2(q_vector)\n",
    "scores, indexes = index.search(q_vector, 10)\n",
    "topk_result = data.values[indexes[0].tolist()]\n",
    "topk_result[:, 0]"
   ]
  },
  {
   "cell_type": "markdown",
   "metadata": {},
   "source": [
    "## Step7 加载交互模型"
   ]
  },
  {
   "cell_type": "code",
   "execution_count": 21,
   "metadata": {},
   "outputs": [
    {
     "name": "stdout",
     "output_type": "stream",
     "text": [
      "模型加载成功！\n"
     ]
    }
   ],
   "source": [
    "from transformers import BertForSequenceClassification\n",
    "corss_model = BertForSequenceClassification.from_pretrained(\"../12-sentence_similarity/cross_model/checkpoint-500/\")\n",
    "corss_model = corss_model.cuda()\n",
    "corss_model.eval()\n",
    "print(\"模型加载成功！\")"
   ]
  },
  {
   "cell_type": "markdown",
   "metadata": {},
   "source": [
    "## Step8 最终预测(排序)"
   ]
  },
  {
   "cell_type": "code",
   "execution_count": 27,
   "metadata": {},
   "outputs": [
    {
     "data": {
      "text/plain": [
       "tensor(1, device='cuda:0')"
      ]
     },
     "execution_count": 27,
     "metadata": {},
     "output_type": "execute_result"
    }
   ],
   "source": [
    "canidate = topk_result[:, 0].tolist()\n",
    "ques = [quesiton] * len(canidate)\n",
    "inputs = tokenzier(ques, canidate, return_tensors=\"pt\", padding=True, max_length=128, truncation=True)\n",
    "inputs = {k: v.to(corss_model.device) for k, v in inputs.items()}\n",
    "with torch.inference_mode():\n",
    "    logits = corss_model(**inputs).logits.squeeze()\n",
    "    result = torch.argmax(logits, dim=-1)\n",
    "result"
   ]
  },
  {
   "cell_type": "code",
   "execution_count": 30,
   "metadata": {},
   "outputs": [
    {
     "data": {
      "text/plain": [
       "('涉嫌寻衅滋事',\n",
       " '说明具有寻衅滋事行为，应受到相应的处罚，行为人情形严重或行为恶劣的涉嫌了寻衅滋事罪。寻衅滋事是指行为人结伙斗殴的、追逐、拦截他人的、强拿硬要或者任意损毁、占用公私财物的、其他寻衅滋事的行为。寻衅滋事罪，是指在公共场所无事生非、起哄闹事，造成公共场所秩序严重混乱的，追逐、拦截、辱骂、恐吓他人，强拿硬要或者任意损毁、占用公私财物，破坏社会秩序，情节严重的行为。对于寻衅滋事行为的处罚：1、《中华人*共和国治安管理处罚法》第二十六条规定，有下列行为之一的，处五日以上十日以下拘留，可以并处五百元以下罚款;情节较重的，处十日以上十五日以下拘留，可以并处一千元以下罚款:(一)结伙斗殴的;(二)追逐、拦截他人的;(三)强拿硬要或者任意损毁、占用公私财物的;(四)其他寻衅滋事行为;2、《中华人*共和国刑法》第二百九十三条有下列寻衅滋事行为之一，破坏社会秩序的，处五年以下有期徒刑、拘役或者管制:(一)随意殴打他人，情节恶劣的;(二)追逐、拦截、辱骂、恐吓他人，情节恶劣的;(三)强拿硬要或者任意损毁、占用公私财物，情节严重的;(四)在公共场所起哄闹事。造成公共场所秩序严重混乱的。纠集他人多次实施前款行为，严重破坏社会秩序的，处五年以上十年以下有期徒刑，可以并处罚金。3、最*人*法*和最*人*检**《关于办理寻衅滋事案件的司法解释》为依法惩治寻衅滋事犯罪，维护社会秩序，最*人*法*会*最*人*检**根据《中华人*共和国刑法》的有关规定，就办理寻衅滋事刑事案件适用法律的若干问题司法解释如下:第一条行为人为寻求刺激、发泄情绪、逞强耍横等，无事生非，实施刑法第二百九十三条规定的行为的，应当认定为\"寻衅滋事\"。行为人因日常生活中的偶发矛盾纠纷，借故生非，实施刑法第二百九十三条规定的行为的，应当认定为\"寻衅滋事\"，但矛盾系由被害人故意引发或者被害人对矛盾激化负有主要责任的除外。行为人因婚恋、家庭、邻里、债务等纠纷，实施殴打、辱骂、恐吓他人或者损毁、占用他人财物等行为的，一般不认定为\"寻衅滋事\"，但经有关部门批评制止或者处理处罚后，继续实施前列行为，破坏社会秩序的除外。第二条随意殴打他人，破坏社会秩序，具有下列情形之一的，应当认定为刑法第二百九十三条第一款第一项规定的\"情节恶劣\":1、致一人以上轻伤或者二人以上轻微伤的;2、引起他人精神失常、自杀等严重后果的;3、多次随意殴打他人的;4、持凶器随意殴打他人的;5、随意殴打精神病人、残疾人、流浪乞讨人员、老年人、孕妇、未成年人，造成恶劣社会影响的;6、在公共场所随意殴打他人，造成公共场所秩序严重混乱的;7、其他情节恶劣的情形。第三条追逐、拦截、辱骂、恐吓他人，破坏社会秩序，具有下列情形之一的，应当认定为刑法第二百九十三条第一款第二项规定的\"情节恶劣\":1、多次追逐、拦截、辱骂、恐吓他人，造成恶劣社会影响的;2、持凶器追逐、拦截、辱骂、恐吓他人的;3、追逐、拦截、辱骂、恐吓精神病人、残疾人、流浪乞讨人员、老年人、孕妇、未成年人，造成恶劣社会影响的;4、引起他人精神失常、自杀等严重后果的;5、严重影响他人的工作、生活、生产、经营的;6、其他情节恶劣的情形。第四条强拿硬要或者任意损毁、占用公私财物，破坏社会秩序，具有下列情形之一的，应当认定为刑法第二百九十三条第一款第三项规定的\"情节严重\":1、强拿硬要公私财物价值一千元以上，或者任意损毁、占用公私财物价值二千元以上的;2、多次强拿硬要或者任意损毁、占用公私财物，造成恶劣社会影响的;3、强拿硬要或者任意损毁、占用精神病人、残疾人、流浪乞讨人员、老年人、孕妇、未成年人的财物，造成恶劣社会影响的;4、引起他人精神失常、自杀等严重后果的;5、严重影响他人的工作、生活、生产、经营的;6、其他情节严重的情形。第五条在车站、码头、机场、医*、商场、公园、影剧*、展览会、运动场或者其他公共场所起哄闹事，应当根据公共场所的性质、公共活动的重要程度、公共场所的人数、起哄闹事的时间、公共场所受影响的范围与程度等因素，综合判断是否\"造成公共场所秩序严重混乱\"。第六条纠集他人三次以上实施寻衅滋事犯罪，未经处理的，应当依照刑法第二百九十三条第二款的规定处罚。第七条实施寻衅滋事行为，*时符合寻衅滋事罪和故意杀人罪、故意伤害罪、故意毁坏财物罪、敲诈勒索罪、抢夺罪、抢劫罪等罪的构成要件的，依照处罚较重的犯罪定罪处罚。第八条行为人认罪、悔罪，积极赔偿被害人损失或者取得被害人谅解的，可以从轻处罚;犯罪情节轻微的，可以不起诉或者免予刑事处罚。')"
      ]
     },
     "execution_count": 30,
     "metadata": {},
     "output_type": "execute_result"
    }
   ],
   "source": [
    "canidate_answer = topk_result[:, 1].tolist()\n",
    "match_quesiton = canidate[result.item()]\n",
    "final_answer = canidate_answer[result.item()]\n",
    "match_quesiton, final_answer"
   ]
  },
  {
   "cell_type": "code",
   "execution_count": null,
   "metadata": {},
   "outputs": [],
   "source": []
  }
 ],
 "metadata": {
  "kernelspec": {
   "display_name": "transformers",
   "language": "python",
   "name": "python3"
  },
  "language_info": {
   "codemirror_mode": {
    "name": "ipython",
    "version": 3
   },
   "file_extension": ".py",
   "mimetype": "text/x-python",
   "name": "python",
   "nbconvert_exporter": "python",
   "pygments_lexer": "ipython3",
   "version": "3.9.16"
  },
  "orig_nbformat": 4
 },
 "nbformat": 4,
 "nbformat_minor": 2
}
